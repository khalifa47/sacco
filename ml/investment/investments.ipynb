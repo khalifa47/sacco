{
 "cells": [
  {
   "cell_type": "code",
   "execution_count": 1,
   "metadata": {},
   "outputs": [],
   "source": [
    "import pandas as pd\n",
    "import numpy as np\n",
    "from sklearn.decomposition import NMF\n",
    "from sklearn.preprocessing import MinMaxScaler, LabelEncoder\n",
    "from sklearn.metrics import mean_squared_error\n",
    "from sklearn.model_selection import train_test_split, RandomizedSearchCV"
   ]
  },
  {
   "cell_type": "code",
   "execution_count": 2,
   "metadata": {},
   "outputs": [],
   "source": [
    "data = pd.read_csv('investments.csv')"
   ]
  },
  {
   "cell_type": "code",
   "execution_count": 3,
   "metadata": {},
   "outputs": [
    {
     "data": {
      "text/html": [
       "<div>\n",
       "<style scoped>\n",
       "    .dataframe tbody tr th:only-of-type {\n",
       "        vertical-align: middle;\n",
       "    }\n",
       "\n",
       "    .dataframe tbody tr th {\n",
       "        vertical-align: top;\n",
       "    }\n",
       "\n",
       "    .dataframe thead th {\n",
       "        text-align: right;\n",
       "    }\n",
       "</style>\n",
       "<table border=\"1\" class=\"dataframe\">\n",
       "  <thead>\n",
       "    <tr style=\"text-align: right;\">\n",
       "      <th></th>\n",
       "      <th>user_id</th>\n",
       "      <th>user_appetite</th>\n",
       "      <th>user_loan_amount</th>\n",
       "      <th>user_average_loan_risk</th>\n",
       "      <th>user_shares_amount</th>\n",
       "      <th>investment_type</th>\n",
       "      <th>investment_amount</th>\n",
       "      <th>investment_date</th>\n",
       "      <th>investment_period</th>\n",
       "      <th>investment_company</th>\n",
       "      <th>investment_sector</th>\n",
       "    </tr>\n",
       "  </thead>\n",
       "  <tbody>\n",
       "    <tr>\n",
       "      <th>0</th>\n",
       "      <td>b99446cf-471b-49b1-a650-560807b2bbe8</td>\n",
       "      <td>0.49</td>\n",
       "      <td>379772</td>\n",
       "      <td>0.59</td>\n",
       "      <td>1111334</td>\n",
       "      <td>index</td>\n",
       "      <td>945357</td>\n",
       "      <td>04/10/2022</td>\n",
       "      <td>long-term</td>\n",
       "      <td>NaN</td>\n",
       "      <td>retail</td>\n",
       "    </tr>\n",
       "    <tr>\n",
       "      <th>1</th>\n",
       "      <td>0e082e18-c5bd-4c2a-b522-afc5ab3d64d8</td>\n",
       "      <td>0.41</td>\n",
       "      <td>972524</td>\n",
       "      <td>0.56</td>\n",
       "      <td>700974</td>\n",
       "      <td>real_estate</td>\n",
       "      <td>850658</td>\n",
       "      <td>3/13/2012</td>\n",
       "      <td>medium-term</td>\n",
       "      <td>NaN</td>\n",
       "      <td>real estate</td>\n",
       "    </tr>\n",
       "    <tr>\n",
       "      <th>2</th>\n",
       "      <td>1c289baf-b88e-4512-a232-08109c8595f5</td>\n",
       "      <td>0.80</td>\n",
       "      <td>955523</td>\n",
       "      <td>0.45</td>\n",
       "      <td>1369878</td>\n",
       "      <td>forex</td>\n",
       "      <td>65035</td>\n",
       "      <td>02/07/2018</td>\n",
       "      <td>medium-term</td>\n",
       "      <td>NaN</td>\n",
       "      <td>NaN</td>\n",
       "    </tr>\n",
       "    <tr>\n",
       "      <th>3</th>\n",
       "      <td>89fdc23f-7128-4fc7-99bf-4d59ff721e85</td>\n",
       "      <td>0.75</td>\n",
       "      <td>164844</td>\n",
       "      <td>0.97</td>\n",
       "      <td>966576</td>\n",
       "      <td>metals</td>\n",
       "      <td>752566</td>\n",
       "      <td>11/15/2016</td>\n",
       "      <td>short-term</td>\n",
       "      <td>NaN</td>\n",
       "      <td>NaN</td>\n",
       "    </tr>\n",
       "    <tr>\n",
       "      <th>4</th>\n",
       "      <td>53532f71-41af-4d12-a050-a59ae567bc4e</td>\n",
       "      <td>0.78</td>\n",
       "      <td>349968</td>\n",
       "      <td>0.16</td>\n",
       "      <td>7083979</td>\n",
       "      <td>index</td>\n",
       "      <td>447950</td>\n",
       "      <td>1/27/2014</td>\n",
       "      <td>medium-term</td>\n",
       "      <td>NaN</td>\n",
       "      <td>retail</td>\n",
       "    </tr>\n",
       "  </tbody>\n",
       "</table>\n",
       "</div>"
      ],
      "text/plain": [
       "                                user_id  user_appetite  user_loan_amount  \\\n",
       "0  b99446cf-471b-49b1-a650-560807b2bbe8           0.49            379772   \n",
       "1  0e082e18-c5bd-4c2a-b522-afc5ab3d64d8           0.41            972524   \n",
       "2  1c289baf-b88e-4512-a232-08109c8595f5           0.80            955523   \n",
       "3  89fdc23f-7128-4fc7-99bf-4d59ff721e85           0.75            164844   \n",
       "4  53532f71-41af-4d12-a050-a59ae567bc4e           0.78            349968   \n",
       "\n",
       "   user_average_loan_risk  user_shares_amount investment_type  \\\n",
       "0                    0.59             1111334           index   \n",
       "1                    0.56              700974     real_estate   \n",
       "2                    0.45             1369878           forex   \n",
       "3                    0.97              966576          metals   \n",
       "4                    0.16             7083979           index   \n",
       "\n",
       "   investment_amount investment_date investment_period investment_company  \\\n",
       "0             945357      04/10/2022         long-term                NaN   \n",
       "1             850658       3/13/2012       medium-term                NaN   \n",
       "2              65035      02/07/2018       medium-term                NaN   \n",
       "3             752566      11/15/2016        short-term                NaN   \n",
       "4             447950       1/27/2014       medium-term                NaN   \n",
       "\n",
       "  investment_sector  \n",
       "0            retail  \n",
       "1       real estate  \n",
       "2               NaN  \n",
       "3               NaN  \n",
       "4            retail  "
      ]
     },
     "execution_count": 3,
     "metadata": {},
     "output_type": "execute_result"
    }
   ],
   "source": [
    "data.head()"
   ]
  },
  {
   "cell_type": "code",
   "execution_count": 4,
   "metadata": {},
   "outputs": [],
   "source": [
    "data = data.drop(['user_id', 'investment_amount', 'investment_date', 'investment_period', 'investment_company', 'investment_sector'], axis=1)"
   ]
  },
  {
   "cell_type": "code",
   "execution_count": 5,
   "metadata": {},
   "outputs": [
    {
     "data": {
      "text/html": [
       "<div>\n",
       "<style scoped>\n",
       "    .dataframe tbody tr th:only-of-type {\n",
       "        vertical-align: middle;\n",
       "    }\n",
       "\n",
       "    .dataframe tbody tr th {\n",
       "        vertical-align: top;\n",
       "    }\n",
       "\n",
       "    .dataframe thead th {\n",
       "        text-align: right;\n",
       "    }\n",
       "</style>\n",
       "<table border=\"1\" class=\"dataframe\">\n",
       "  <thead>\n",
       "    <tr style=\"text-align: right;\">\n",
       "      <th></th>\n",
       "      <th>user_appetite</th>\n",
       "      <th>user_loan_amount</th>\n",
       "      <th>user_average_loan_risk</th>\n",
       "      <th>user_shares_amount</th>\n",
       "      <th>investment_type</th>\n",
       "    </tr>\n",
       "  </thead>\n",
       "  <tbody>\n",
       "    <tr>\n",
       "      <th>0</th>\n",
       "      <td>0.49</td>\n",
       "      <td>379772</td>\n",
       "      <td>0.59</td>\n",
       "      <td>1111334</td>\n",
       "      <td>index</td>\n",
       "    </tr>\n",
       "    <tr>\n",
       "      <th>1</th>\n",
       "      <td>0.41</td>\n",
       "      <td>972524</td>\n",
       "      <td>0.56</td>\n",
       "      <td>700974</td>\n",
       "      <td>real_estate</td>\n",
       "    </tr>\n",
       "    <tr>\n",
       "      <th>2</th>\n",
       "      <td>0.80</td>\n",
       "      <td>955523</td>\n",
       "      <td>0.45</td>\n",
       "      <td>1369878</td>\n",
       "      <td>forex</td>\n",
       "    </tr>\n",
       "    <tr>\n",
       "      <th>3</th>\n",
       "      <td>0.75</td>\n",
       "      <td>164844</td>\n",
       "      <td>0.97</td>\n",
       "      <td>966576</td>\n",
       "      <td>metals</td>\n",
       "    </tr>\n",
       "    <tr>\n",
       "      <th>4</th>\n",
       "      <td>0.78</td>\n",
       "      <td>349968</td>\n",
       "      <td>0.16</td>\n",
       "      <td>7083979</td>\n",
       "      <td>index</td>\n",
       "    </tr>\n",
       "  </tbody>\n",
       "</table>\n",
       "</div>"
      ],
      "text/plain": [
       "   user_appetite  user_loan_amount  user_average_loan_risk  \\\n",
       "0           0.49            379772                    0.59   \n",
       "1           0.41            972524                    0.56   \n",
       "2           0.80            955523                    0.45   \n",
       "3           0.75            164844                    0.97   \n",
       "4           0.78            349968                    0.16   \n",
       "\n",
       "   user_shares_amount investment_type  \n",
       "0             1111334           index  \n",
       "1              700974     real_estate  \n",
       "2             1369878           forex  \n",
       "3              966576          metals  \n",
       "4             7083979           index  "
      ]
     },
     "execution_count": 5,
     "metadata": {},
     "output_type": "execute_result"
    }
   ],
   "source": [
    "data.head()"
   ]
  },
  {
   "cell_type": "code",
   "execution_count": 6,
   "metadata": {},
   "outputs": [
    {
     "data": {
      "text/plain": [
       "user_appetite             0\n",
       "user_loan_amount          0\n",
       "user_average_loan_risk    0\n",
       "user_shares_amount        0\n",
       "investment_type           0\n",
       "dtype: int64"
      ]
     },
     "execution_count": 6,
     "metadata": {},
     "output_type": "execute_result"
    }
   ],
   "source": [
    "data.isnull().sum()"
   ]
  },
  {
   "cell_type": "code",
   "execution_count": 7,
   "metadata": {},
   "outputs": [
    {
     "name": "stdout",
     "output_type": "stream",
     "text": [
      "<class 'pandas.core.frame.DataFrame'>\n",
      "RangeIndex: 102000 entries, 0 to 101999\n",
      "Data columns (total 5 columns):\n",
      " #   Column                  Non-Null Count   Dtype  \n",
      "---  ------                  --------------   -----  \n",
      " 0   user_appetite           102000 non-null  float64\n",
      " 1   user_loan_amount        102000 non-null  int64  \n",
      " 2   user_average_loan_risk  102000 non-null  float64\n",
      " 3   user_shares_amount      102000 non-null  int64  \n",
      " 4   investment_type         102000 non-null  int32  \n",
      "dtypes: float64(2), int32(1), int64(2)\n",
      "memory usage: 3.5 MB\n"
     ]
    }
   ],
   "source": [
    "le = LabelEncoder()\n",
    "data['investment_type'] = le.fit_transform(data['investment_type'])\n",
    "data.info()"
   ]
  },
  {
   "cell_type": "code",
   "execution_count": 8,
   "metadata": {},
   "outputs": [
    {
     "data": {
      "text/plain": [
       "{'crypto': 0,\n",
       " 'etf': 1,\n",
       " 'forex': 2,\n",
       " 'index': 3,\n",
       " 'metals': 4,\n",
       " 'real_estate': 5,\n",
       " 'stocks': 6}"
      ]
     },
     "execution_count": 8,
     "metadata": {},
     "output_type": "execute_result"
    }
   ],
   "source": [
    "encoding_mapping = dict(zip(le.classes_, le.transform(le.classes_)))\n",
    "encoding_mapping"
   ]
  },
  {
   "cell_type": "code",
   "execution_count": 9,
   "metadata": {},
   "outputs": [],
   "source": [
    "X = data.drop('investment_type', axis=1).values\n",
    "y = data['investment_type'].values"
   ]
  },
  {
   "cell_type": "code",
   "execution_count": 10,
   "metadata": {},
   "outputs": [],
   "source": [
    "# Scale the features using Min-Max scaling to ensure non-negativity\n",
    "scaler = MinMaxScaler()\n",
    "X_scaled = scaler.fit_transform(X)\n",
    "\n",
    "X_train, X_test, _, _ = train_test_split(X_scaled, y, test_size=0.2, random_state=42)"
   ]
  },
  {
   "cell_type": "code",
   "execution_count": 11,
   "metadata": {},
   "outputs": [
    {
     "name": "stderr",
     "output_type": "stream",
     "text": [
      "c:\\Dev\\jsDev\\sacco\\.venv\\lib\\site-packages\\sklearn\\model_selection\\_search.py:976: UserWarning: One or more of the test scores are non-finite: [nan nan nan nan nan nan nan nan nan nan]\n",
      "  warnings.warn(\n"
     ]
    }
   ],
   "source": [
    "# hyperparameter tuning for NMF\n",
    "param_grid = {\n",
    "    'n_components': [3, 4, 5],  # Adjust the range of components as needed\n",
    "    'init': ['random', 'nndsvd', 'nndsvda', 'nndsvdar', None],\n",
    "    'max_iter': [200, 400, 600],\n",
    "    'alpha_W': [0, 0.01, 0.1, 1],\n",
    "    'l1_ratio': [0, 0.01, 0.1, 1]\n",
    "}\n",
    "\n",
    "nmf = NMF()\n",
    "rand_search = RandomizedSearchCV(nmf, param_grid, cv=5, scoring='neg_mean_squared_error', n_jobs=-1)\n",
    "rand_search.fit(X_train)\n",
    "\n",
    "best_n_components = rand_search.best_params_['n_components']\n",
    "best_init = rand_search.best_params_['init']"
   ]
  },
  {
   "cell_type": "code",
   "execution_count": 12,
   "metadata": {},
   "outputs": [
    {
     "data": {
      "text/plain": [
       "{'n_components': 4,\n",
       " 'max_iter': 400,\n",
       " 'l1_ratio': 0.01,\n",
       " 'init': 'random',\n",
       " 'alpha_W': 1}"
      ]
     },
     "execution_count": 12,
     "metadata": {},
     "output_type": "execute_result"
    }
   ],
   "source": [
    "rand_search.best_params_"
   ]
  },
  {
   "cell_type": "code",
   "execution_count": 13,
   "metadata": {},
   "outputs": [
    {
     "name": "stderr",
     "output_type": "stream",
     "text": [
      "c:\\Dev\\jsDev\\sacco\\.venv\\lib\\site-packages\\sklearn\\decomposition\\_nmf.py:1710: ConvergenceWarning: Maximum number of iterations 200 reached. Increase it to improve convergence.\n",
      "  warnings.warn(\n"
     ]
    }
   ],
   "source": [
    "# Step 3: Model Training\n",
    "model = NMF(n_components=best_n_components, init=best_init)\n",
    "W = model.fit_transform(X_train)  # User matrix\n",
    "H = model.components_  # Investment matrix"
   ]
  },
  {
   "cell_type": "code",
   "execution_count": 14,
   "metadata": {},
   "outputs": [
    {
     "name": "stdout",
     "output_type": "stream",
     "text": [
      "Mean Squared Error: 0.14654805767067172\n",
      "Root Mean Squared Error: 0.38281595796240225\n"
     ]
    }
   ],
   "source": [
    "predicted_affinities = np.dot(X_test, H.T)\n",
    "mse = mean_squared_error(X_test, np.dot(predicted_affinities, H))\n",
    "\n",
    "print(\"Mean Squared Error:\", mse)\n",
    "print(\"Root Mean Squared Error:\", np.sqrt(mse))"
   ]
  },
  {
   "cell_type": "code",
   "execution_count": 17,
   "metadata": {},
   "outputs": [
    {
     "name": "stdout",
     "output_type": "stream",
     "text": [
      "Top 3 Recommended Investment Types:\n",
      "1. forex (Ranking: 0.73)\n",
      "2. crypto (Ranking: 0.52)\n",
      "3. etf (Ranking: 0.39)\n"
     ]
    }
   ],
   "source": [
    "# Step 4: Prediction\n",
    "new_user_input = np.array([0.49, 379772,\t0.59, 1111334])  # user_appetite, user_loan_amount, user_average_loan_risk, user_shares_amount\n",
    "scaled_new_user_input = scaler.transform(new_user_input.reshape(1, -1))\n",
    "predicted_affinities = np.dot(scaled_new_user_input, H.T)[0]\n",
    "\n",
    "# Rank the investment types based on predicted affinities\n",
    "top_indices = np.argsort(predicted_affinities)[::-1]  # Sort in descending order\n",
    "\n",
    "label_to_investment_type = {v: k for k, v in encoding_mapping.items()}\n",
    "\n",
    "# Get the top 3 recommended investment types and their ranking\n",
    "top_3_recommendations = [(label_to_investment_type[idx], predicted_affinities[idx]) for idx in top_indices[:3]]\n",
    "\n",
    "# Print the recommendations and their ranking\n",
    "print(\"Top 3 Recommended Investment Types:\")\n",
    "for i, (investment_type, ranking) in enumerate(top_3_recommendations):\n",
    "    print(f\"{i+1}. {investment_type} (Ranking: {ranking:.2f})\")"
   ]
  },
  {
   "cell_type": "code",
   "execution_count": 23,
   "metadata": {},
   "outputs": [
    {
     "data": {
      "text/plain": [
       "['nmf_model.joblib']"
      ]
     },
     "execution_count": 23,
     "metadata": {},
     "output_type": "execute_result"
    }
   ],
   "source": [
    "import joblib\n",
    "\n",
    "# Save the model\n",
    "joblib.dump(model, 'nmf_model.joblib')"
   ]
  },
  {
   "cell_type": "code",
   "execution_count": 24,
   "metadata": {},
   "outputs": [
    {
     "data": {
      "text/plain": [
       "['scaler.joblib']"
      ]
     },
     "execution_count": 24,
     "metadata": {},
     "output_type": "execute_result"
    }
   ],
   "source": [
    "# Save the scaler   \n",
    "joblib.dump(scaler, 'scaler.joblib')"
   ]
  },
  {
   "cell_type": "code",
   "execution_count": 25,
   "metadata": {},
   "outputs": [
    {
     "name": "stdout",
     "output_type": "stream",
     "text": [
      "Top 3 Recommended Investment Types:\n",
      "1. forex (Ranking: 0.73)\n",
      "2. crypto (Ranking: 0.52)\n",
      "3. etf (Ranking: 0.39)\n"
     ]
    }
   ],
   "source": [
    "# Load the model and scaler\n",
    "model2 = joblib.load('nmf_model.joblib')\n",
    "scaler2 = joblib.load('scaler.joblib')\n",
    "\n",
    "# Predict using the loaded model and scaler\n",
    "scaled_new_user_input = scaler2.transform(new_user_input.reshape(1, -1))\n",
    "\n",
    "predicted_affinities = np.dot(scaled_new_user_input, model2.components_.T)[0]\n",
    "\n",
    "top_indices = np.argsort(predicted_affinities)[::-1]  # Sort in descending order\n",
    "\n",
    "label_to_investment_type = {v: k for k, v in encoding_mapping.items()}\n",
    "\n",
    "# Get the top 3 recommended investment types and their ranking\n",
    "top_3_recommendations = [(label_to_investment_type[idx], predicted_affinities[idx]) for idx in top_indices[:3]]\n",
    "\n",
    "# Print the recommendations and their ranking\n",
    "print(\"Top 3 Recommended Investment Types:\")\n",
    "for i, (investment_type, ranking) in enumerate(top_3_recommendations):\n",
    "    print(f\"{i+1}. {investment_type} (Ranking: {ranking:.2f})\")"
   ]
  },
  {
   "cell_type": "code",
   "execution_count": null,
   "metadata": {},
   "outputs": [],
   "source": []
  }
 ],
 "metadata": {
  "kernelspec": {
   "display_name": ".venv",
   "language": "python",
   "name": "python3"
  },
  "language_info": {
   "codemirror_mode": {
    "name": "ipython",
    "version": 3
   },
   "file_extension": ".py",
   "mimetype": "text/x-python",
   "name": "python",
   "nbconvert_exporter": "python",
   "pygments_lexer": "ipython3",
   "version": "3.10.5"
  }
 },
 "nbformat": 4,
 "nbformat_minor": 2
}
